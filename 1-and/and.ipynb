{
 "cells": [
  {
   "cell_type": "markdown",
   "metadata": {},
   "source": [
    "# Interface 2017.8"
   ]
  },
  {
   "cell_type": "markdown",
   "metadata": {},
   "source": [
    "## 3入力AND回路テスト"
   ]
  },
  {
   "cell_type": "code",
   "execution_count": 1,
   "metadata": {
    "collapsed": false,
    "scrolled": false
   },
   "outputs": [
    {
     "name": "stdout",
     "output_type": "stream",
     "text": [
      "epoch       main/loss   validation/main/loss  main/accuracy  validation/main/accuracy  elapsed_time\n",
      "1           1.44185     1.4393                0.375          0.375                     8.59707       \n",
      "2           1.4393      1.43676               0.375          0.375                     8.9254        \n",
      "3           1.43676     1.43423               0.375          0.375                     9.23966       \n",
      "4           1.43423     1.4317                0.375          0.375                     9.54014       \n",
      "5           1.4317      1.42917               0.375          0.375                     9.90473       \n",
      "6           1.42917     1.42665               0.375          0.375                     10.2194       \n",
      "7           1.42665     1.42413               0.375          0.375                     10.5319       \n",
      "8           1.42413     1.42162               0.375          0.375                     10.8772       \n",
      "9           1.42162     1.41911               0.375          0.375                     11.2047       \n",
      "10          1.41911     1.41661               0.375          0.375                     11.575        \n",
      "input: [ 0.  0.  0.], result: 0\n",
      "input: [ 0.  0.  1.], result: 1\n",
      "input: [ 0.  1.  0.], result: 2\n",
      "input: [ 0.  1.  1.], result: 2\n",
      "input: [ 1.  0.  0.], result: 0\n",
      "input: [ 1.  0.  1.], result: 1\n",
      "input: [ 1.  1.  0.], result: 0\n",
      "input: [ 1.  1.  1.], result: 2\n"
     ]
    }
   ],
   "source": [
    "%run -i and_in3.py"
   ]
  },
  {
   "cell_type": "code",
   "execution_count": 2,
   "metadata": {
    "collapsed": false
   },
   "outputs": [],
   "source": [
    "!dot -Tpng result/and_in3/cg.dot -o result/and_in3/cg.png"
   ]
  },
  {
   "cell_type": "markdown",
   "metadata": {},
   "source": [
    "*ネットワーク構造の可視化にはgraphvizがインストールされている必要がある。*\n",
    "```\n",
    "> conda install -y graphviz\n",
    "```\n",
    "<img src=\"result/and_in3/cg.png\">\n",
    "<img src=\"result/and_in3/accuracy.png\">\n",
    "<img src=\"result/and_in3/loss.png\">"
   ]
  },
  {
   "cell_type": "markdown",
   "metadata": {},
   "source": [
    "## 4出力AND回路テスト"
   ]
  },
  {
   "cell_type": "code",
   "execution_count": 3,
   "metadata": {
    "collapsed": false
   },
   "outputs": [
    {
     "name": "stdout",
     "output_type": "stream",
     "text": [
      "epoch       main/loss   validation/main/loss  main/accuracy  validation/main/accuracy  elapsed_time\n",
      "1           1.05612     1.05519               0.75           0.75                      0.374678      \n",
      "2           1.05519     1.05427               0.75           0.75                      0.714362      \n",
      "3           1.05427     1.05334               0.75           0.75                      1.01487       \n",
      "4           1.05334     1.05242               0.75           0.75                      1.33472       \n",
      "5           1.05242     1.0515                0.75           0.75                      1.65372       \n",
      "6           1.0515      1.05058               0.75           0.75                      1.98959       \n",
      "7           1.05058     1.04966               0.75           0.75                      2.29437       \n",
      "8           1.04966     1.04875               0.75           0.75                      2.63387       \n",
      "9           1.04875     1.04784               0.75           0.75                      2.94559       \n",
      "10          1.04784     1.04693               0.75           0.75                      3.27255       \n",
      "input: [ 0.  0.], result: 0\n",
      "input: [ 0.  1.], result: 1\n",
      "input: [ 1.  0.], result: 2\n",
      "input: [ 1.  1.], result: 1\n"
     ]
    }
   ],
   "source": [
    "%run -i and_out4.py"
   ]
  },
  {
   "cell_type": "code",
   "execution_count": 4,
   "metadata": {
    "collapsed": true
   },
   "outputs": [],
   "source": [
    "!dot -Tpng result/and_out4/cg.dot -o result/and_out4/cg.png"
   ]
  },
  {
   "cell_type": "markdown",
   "metadata": {},
   "source": [
    "<img src=\"result/and_out4/cg.png\">\n",
    "<img src=\"result/and_out4/accuracy.png\">\n",
    "<img src=\"result/and_out4/loss.png\">"
   ]
  },
  {
   "cell_type": "code",
   "execution_count": null,
   "metadata": {
    "collapsed": true
   },
   "outputs": [],
   "source": []
  }
 ],
 "metadata": {
  "anaconda-cloud": {},
  "kernelspec": {
   "display_name": "Python [conda root]",
   "language": "python",
   "name": "conda-root-py"
  },
  "language_info": {
   "codemirror_mode": {
    "name": "ipython",
    "version": 3
   },
   "file_extension": ".py",
   "mimetype": "text/x-python",
   "name": "python",
   "nbconvert_exporter": "python",
   "pygments_lexer": "ipython3",
   "version": "3.5.2"
  },
  "nav_menu": {},
  "toc": {
   "navigate_menu": true,
   "number_sections": true,
   "sideBar": true,
   "threshold": 6,
   "toc_cell": false,
   "toc_section_display": "block",
   "toc_window_display": false
  }
 },
 "nbformat": 4,
 "nbformat_minor": 2
}
