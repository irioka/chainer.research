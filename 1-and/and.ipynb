{
 "cells": [
  {
   "cell_type": "markdown",
   "metadata": {},
   "source": [
    "# Interface 2017.8\n",
    "## AND回路テスト"
   ]
  },
  {
   "cell_type": "code",
   "execution_count": 1,
   "metadata": {},
   "outputs": [
    {
     "name": "stdout",
     "output_type": "stream",
     "text": [
      "epoch       main/loss   validation/main/loss  main/accuracy  validation/main/accuracy  elapsed_time\n",
      "1           0.859344    0.85791               0.5            0.5                       0.364227      \n",
      "2           0.85791     0.856479              0.5            0.5                       0.742619      \n",
      "3           0.856479    0.855052              0.5            0.5                       1.18519       \n",
      "4           0.855052    0.853627              0.5            0.5                       1.59934       \n",
      "5           0.853627    0.852205              0.5            0.5                       2.03254       \n",
      "6           0.852205    0.850786              0.5            0.5                       2.37052       \n",
      "7           0.850787    0.849371              0.5            0.5                       2.80461       \n",
      "8           0.849371    0.847959              0.5            0.5                       3.17111       \n",
      "9           0.847959    0.846551              0.5            0.5                       3.58281       \n",
      "10          0.846551    0.845145              0.5            0.5                       3.94031       \n",
      "11          0.845145    0.843743              0.5            0.5                       4.35109       \n",
      "12          0.843743    0.842345              0.5            0.5                       4.73656       \n",
      "13          0.842345    0.84095               0.5            0.5                       5.10448       \n",
      "14          0.84095     0.839559              0.5            0.5                       5.49255       \n",
      "15          0.839559    0.838171              0.5            0.5                       5.91275       \n",
      "16          0.838171    0.836787              0.5            0.5                       6.29011       \n",
      "17          0.836788    0.835407              0.5            0.5                       6.6747        \n",
      "18          0.835407    0.834031              0.5            0.5                       7.04799       \n",
      "19          0.834031    0.832658              0.5            0.5                       7.42853       \n",
      "20          0.832658    0.831289              0.5            0.5                       7.88515       \n",
      "input: [ 0.  0.], result: 0\n",
      "input: [ 0.  1.], result: 1\n",
      "input: [ 1.  0.], result: 1\n",
      "input: [ 1.  1.], result: 1\n"
     ]
    }
   ],
   "source": [
    "%run -i and.py"
   ]
  },
  {
   "cell_type": "markdown",
   "metadata": {},
   "source": [
    "ネットワーク構造の可視化にはgraphvizをインストールする必要がある。\n",
    "```\n",
    "> conda install -y graphviz\n",
    "> pip install graphviz\n",
    "```"
   ]
  },
  {
   "cell_type": "code",
   "execution_count": 2,
   "metadata": {
    "collapsed": true
   },
   "outputs": [],
   "source": [
    "!dot -Tpng result/cg.dot -o result/cg.png"
   ]
  },
  {
   "cell_type": "markdown",
   "metadata": {},
   "source": [
    "<img src=\"result/cg.png\">"
   ]
  },
  {
   "cell_type": "markdown",
   "metadata": {},
   "source": [
    "<img src=\"result/accuracy.png\">\n",
    "<img src=\"result/loss.png\">"
   ]
  },
  {
   "cell_type": "code",
   "execution_count": null,
   "metadata": {
    "collapsed": true
   },
   "outputs": [],
   "source": []
  }
 ],
 "metadata": {
  "kernelspec": {
   "display_name": "Python [conda root]",
   "language": "python",
   "name": "conda-root-py"
  },
  "language_info": {
   "codemirror_mode": {
    "name": "ipython",
    "version": 3
   },
   "file_extension": ".py",
   "mimetype": "text/x-python",
   "name": "python",
   "nbconvert_exporter": "python",
   "pygments_lexer": "ipython3",
   "version": "3.5.3"
  }
 },
 "nbformat": 4,
 "nbformat_minor": 2
}
